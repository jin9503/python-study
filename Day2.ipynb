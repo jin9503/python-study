{
 "cells": [
  {
   "cell_type": "code",
   "execution_count": 4,
   "id": "83e94fe6",
   "metadata": {},
   "outputs": [
    {
     "data": {
      "text/plain": [
       "100"
      ]
     },
     "execution_count": 4,
     "metadata": {},
     "output_type": "execute_result"
    }
   ],
   "source": [
    "100"
   ]
  },
  {
   "cell_type": "markdown",
   "id": "5c9c93d2",
   "metadata": {},
   "source": [
    "# 함수\n",
    "\n",
    "반복되는 코드의 중복을 방지하기 위한 하나의 코드 블록을 이야기한다.\n",
    "정의를 먼저 지행하고, 이 함수의 이름을 호출해서 사용한다, (())  \n",
    "순수함수, 비순수함수  \n",
    "순수함수:입력을 받아서 출력을 처리해서 전달해주는 함수(ex:F(x)=y)  \n",
    "비순수함수:함수 내의 기능의 외부의 변수나 객체를 호출한 다음에 상태를 바꿔주는 함수(ex:f(x))  "
   ]
  },
  {
   "cell_type": "code",
   "execution_count": 14,
   "id": "c1484537",
   "metadata": {},
   "outputs": [],
   "source": [
    "def soonsu(a,b):\n",
    "    return a+b"
   ]
  },
  {
   "cell_type": "code",
   "execution_count": 15,
   "id": "9d8bae09",
   "metadata": {},
   "outputs": [],
   "source": [
    "c = 0\n",
    "def bisoonsu(a,b):\n",
    "    globals() ['c'] = a+b"
   ]
  },
  {
   "cell_type": "code",
   "execution_count": 16,
   "id": "da9eaed5",
   "metadata": {},
   "outputs": [],
   "source": [
    "d = soonsu(10,10)"
   ]
  },
  {
   "cell_type": "code",
   "execution_count": 17,
   "id": "d5903ca4",
   "metadata": {},
   "outputs": [
    {
     "data": {
      "text/plain": [
       "20"
      ]
     },
     "execution_count": 17,
     "metadata": {},
     "output_type": "execute_result"
    }
   ],
   "source": [
    "d"
   ]
  },
  {
   "cell_type": "code",
   "execution_count": 18,
   "id": "dfe3b0cd",
   "metadata": {},
   "outputs": [
    {
     "data": {
      "text/plain": [
       "int"
      ]
     },
     "execution_count": 18,
     "metadata": {},
     "output_type": "execute_result"
    }
   ],
   "source": [
    "type(d)"
   ]
  },
  {
   "cell_type": "code",
   "execution_count": 19,
   "id": "0027290c",
   "metadata": {},
   "outputs": [],
   "source": [
    "e = bisoonsu(10,20)"
   ]
  },
  {
   "cell_type": "code",
   "execution_count": 20,
   "id": "3249a4d4",
   "metadata": {},
   "outputs": [],
   "source": [
    "e"
   ]
  },
  {
   "cell_type": "code",
   "execution_count": 21,
   "id": "857107d1",
   "metadata": {},
   "outputs": [
    {
     "data": {
      "text/plain": [
       "NoneType"
      ]
     },
     "execution_count": 21,
     "metadata": {},
     "output_type": "execute_result"
    }
   ],
   "source": [
    "type(e)"
   ]
  },
  {
   "cell_type": "code",
   "execution_count": 22,
   "id": "b666e6b9",
   "metadata": {},
   "outputs": [
    {
     "data": {
      "text/plain": [
       "30"
      ]
     },
     "execution_count": 22,
     "metadata": {},
     "output_type": "execute_result"
    }
   ],
   "source": [
    "c"
   ]
  },
  {
   "cell_type": "markdown",
   "id": "d51b8e32",
   "metadata": {},
   "source": [
    "## 1.함수 정의\n",
    "### 함수 정의문  \n",
    "- 함수는 콜론(:)을 기준으로 좌측에는 헤더부이고 , 우측이나 아래는 몸체부.  \n",
    "- 헤더부 :함수명과 매개변수  \n",
    "- 몸체부 : 로직과 return처리\n",
    "\n",
    ">def 키워드 +함수명(매개변수):  \n",
    "로직  \n",
    "return  \n",
    "\n",
    "파이썬에서는 들여쓰기 4칸이 기준이다\n",
    "\n"
   ]
  },
  {
   "cell_type": "code",
   "execution_count": 23,
   "id": "5c7e537c",
   "metadata": {},
   "outputs": [],
   "source": [
    "def add(x, y):\n",
    "    return x+y"
   ]
  },
  {
   "cell_type": "code",
   "execution_count": 24,
   "id": "a99abccd",
   "metadata": {},
   "outputs": [
    {
     "data": {
      "text/plain": [
       "5"
      ]
     },
     "execution_count": 24,
     "metadata": {},
     "output_type": "execute_result"
    }
   ],
   "source": [
    "add(2,3)"
   ]
  },
  {
   "cell_type": "code",
   "execution_count": 25,
   "id": "291e5361",
   "metadata": {},
   "outputs": [
    {
     "data": {
      "text/plain": [
       "<function __main__.add(x, y)>"
      ]
     },
     "execution_count": 25,
     "metadata": {},
     "output_type": "execute_result"
    }
   ],
   "source": [
    "add"
   ]
  },
  {
   "cell_type": "code",
   "execution_count": 26,
   "id": "3e76e18f",
   "metadata": {},
   "outputs": [
    {
     "data": {
      "text/plain": [
       "True"
      ]
     },
     "execution_count": 26,
     "metadata": {},
     "output_type": "execute_result"
    }
   ],
   "source": [
    "callable(add)"
   ]
  },
  {
   "cell_type": "code",
   "execution_count": 28,
   "id": "0a93ce38",
   "metadata": {},
   "outputs": [],
   "source": [
    "a = 100"
   ]
  },
  {
   "cell_type": "code",
   "execution_count": 29,
   "id": "e02684b9",
   "metadata": {},
   "outputs": [
    {
     "data": {
      "text/plain": [
       "False"
      ]
     },
     "execution_count": 29,
     "metadata": {},
     "output_type": "execute_result"
    }
   ],
   "source": [
    "callable(a)"
   ]
  },
  {
   "cell_type": "code",
   "execution_count": 30,
   "id": "edaf6e8e",
   "metadata": {},
   "outputs": [
    {
     "data": {
      "text/plain": [
       "<function len(obj, /)>"
      ]
     },
     "execution_count": 30,
     "metadata": {},
     "output_type": "execute_result"
    }
   ],
   "source": [
    "len"
   ]
  },
  {
   "cell_type": "code",
   "execution_count": 31,
   "id": "f8dad869",
   "metadata": {},
   "outputs": [
    {
     "data": {
      "text/plain": [
       "True"
      ]
     },
     "execution_count": 31,
     "metadata": {},
     "output_type": "execute_result"
    }
   ],
   "source": [
    "callable(len)"
   ]
  },
  {
   "cell_type": "markdown",
   "id": "faa997f9",
   "metadata": {},
   "source": [
    "## 함수 호출을 위해 호출연산자 사용  \n",
    "  -함수이름 다음에 괄호 즉! 함수호출연산자를 사용한다.  \n",
    "  -함수에 매개변수가 있으면, 해당하는 값인 인자를 전달해야 한다.  \n",
    "\n"
   ]
  },
  {
   "cell_type": "code",
   "execution_count": 38,
   "id": "63f1d415",
   "metadata": {},
   "outputs": [
    {
     "data": {
      "text/plain": [
       "7"
      ]
     },
     "execution_count": 38,
     "metadata": {},
     "output_type": "execute_result"
    }
   ],
   "source": [
    "add(2,5)"
   ]
  },
  {
   "cell_type": "code",
   "execution_count": 39,
   "id": "e0ec7870",
   "metadata": {},
   "outputs": [
    {
     "data": {
      "text/plain": [
       "7"
      ]
     },
     "execution_count": 39,
     "metadata": {},
     "output_type": "execute_result"
    }
   ],
   "source": [
    "add.__call__(2,5)"
   ]
  },
  {
   "cell_type": "code",
   "execution_count": 40,
   "id": "fe098d8f",
   "metadata": {},
   "outputs": [],
   "source": [
    "def add(a,b):\n",
    "    return a+b"
   ]
  },
  {
   "cell_type": "code",
   "execution_count": 41,
   "id": "384ec926",
   "metadata": {},
   "outputs": [
    {
     "data": {
      "text/plain": [
       "<function __main__.add(a, b)>"
      ]
     },
     "execution_count": 41,
     "metadata": {},
     "output_type": "execute_result"
    }
   ],
   "source": [
    "add"
   ]
  },
  {
   "cell_type": "code",
   "execution_count": 42,
   "id": "21c94883",
   "metadata": {},
   "outputs": [
    {
     "ename": "SyntaxError",
     "evalue": "invalid syntax (<ipython-input-42-97fd6b779593>, line 3)",
     "output_type": "error",
     "traceback": [
      "\u001b[1;36m  File \u001b[1;32m\"<ipython-input-42-97fd6b779593>\"\u001b[1;36m, line \u001b[1;32m3\u001b[0m\n\u001b[1;33m    def add(self)\u001b[0m\n\u001b[1;37m                 ^\u001b[0m\n\u001b[1;31mSyntaxError\u001b[0m\u001b[1;31m:\u001b[0m invalid syntax\n"
     ]
    }
   ],
   "source": [
    "class A:\n",
    "\n",
    "    def add(self)"
   ]
  },
  {
   "cell_type": "markdown",
   "id": "6e448cb0",
   "metadata": {},
   "source": [
    "## 일반 로직과 함수 처리 비교  \n",
    " 일반로직: 한번을 처리할 때 일반적인 로직으로 처리 "
   ]
  },
  {
   "cell_type": "code",
   "execution_count": 44,
   "id": "38f7e593",
   "metadata": {},
   "outputs": [
    {
     "name": "stdout",
     "output_type": "stream",
     "text": [
      "0\n",
      "1\n",
      "3\n",
      "6\n",
      "10\n",
      "15\n",
      "21\n",
      "28\n",
      "36\n",
      "45\n"
     ]
    }
   ],
   "source": [
    "a = 0\n",
    "for data in range(0,10):\n",
    "    a += data\n",
    "    print(a)"
   ]
  },
  {
   "cell_type": "code",
   "execution_count": 55,
   "id": "63b3ab3b",
   "metadata": {},
   "outputs": [],
   "source": [
    "def add_function(a):\n",
    "    for data in range(0,10):\n",
    "        a ++ data\n",
    "        return a"
   ]
  },
  {
   "cell_type": "code",
   "execution_count": 56,
   "id": "90038b77",
   "metadata": {},
   "outputs": [
    {
     "data": {
      "text/plain": [
       "45"
      ]
     },
     "execution_count": 56,
     "metadata": {},
     "output_type": "execute_result"
    }
   ],
   "source": [
    "add_function(a)"
   ]
  },
  {
   "cell_type": "code",
   "execution_count": 57,
   "id": "1748f74d",
   "metadata": {},
   "outputs": [
    {
     "data": {
      "text/plain": [
       "45"
      ]
     },
     "execution_count": 57,
     "metadata": {},
     "output_type": "execute_result"
    }
   ],
   "source": [
    "globals()['add_function'](a)"
   ]
  },
  {
   "cell_type": "code",
   "execution_count": 54,
   "id": "a4401d6c",
   "metadata": {},
   "outputs": [
    {
     "data": {
      "text/plain": [
       "45"
      ]
     },
     "execution_count": 54,
     "metadata": {},
     "output_type": "execute_result"
    }
   ],
   "source": [
    "a"
   ]
  },
  {
   "cell_type": "code",
   "execution_count": 59,
   "id": "0121a4b5",
   "metadata": {},
   "outputs": [
    {
     "data": {
      "text/plain": [
       "45"
      ]
     },
     "execution_count": 59,
     "metadata": {},
     "output_type": "execute_result"
    }
   ],
   "source": [
    "globals()['a']"
   ]
  },
  {
   "cell_type": "code",
   "execution_count": 60,
   "id": "a3ac2a0c",
   "metadata": {},
   "outputs": [],
   "source": [
    "add_function_=add_function"
   ]
  },
  {
   "cell_type": "code",
   "execution_count": 61,
   "id": "176b0123",
   "metadata": {},
   "outputs": [
    {
     "data": {
      "text/plain": [
       "45"
      ]
     },
     "execution_count": 61,
     "metadata": {},
     "output_type": "execute_result"
    }
   ],
   "source": [
    "add_function_(a)"
   ]
  },
  {
   "cell_type": "markdown",
   "id": "4bedf49c",
   "metadata": {},
   "source": [
    "### 매개변수\n",
    "\n"
   ]
  },
  {
   "cell_type": "code",
   "execution_count": 66,
   "id": "d4be5aec",
   "metadata": {},
   "outputs": [],
   "source": [
    "def add(a:int,b:int):\n",
    "    if type(a)==str:\n",
    "        print(\"a의 값은 문자열이 될 수 없습니다.\")\n",
    "        return None\n",
    "    return a+b"
   ]
  },
  {
   "cell_type": "code",
   "execution_count": 72,
   "id": "2f48399b",
   "metadata": {},
   "outputs": [
    {
     "data": {
      "text/plain": [
       "{'a': int, 'b': int}"
      ]
     },
     "execution_count": 72,
     "metadata": {},
     "output_type": "execute_result"
    }
   ],
   "source": [
    "add.__annotations__"
   ]
  },
  {
   "cell_type": "code",
   "execution_count": 74,
   "id": "864bce90",
   "metadata": {},
   "outputs": [
    {
     "name": "stdout",
     "output_type": "stream",
     "text": [
      "a의 값은 문자열이 될 수 없습니다.\n"
     ]
    }
   ],
   "source": [
    "add('3','2')"
   ]
  },
  {
   "cell_type": "code",
   "execution_count": 78,
   "id": "9c304c1b",
   "metadata": {},
   "outputs": [
    {
     "ename": "IndentationError",
     "evalue": "unindent does not match any outer indentation level (<tokenize>, line 4)",
     "output_type": "error",
     "traceback": [
      "\u001b[1;36m  File \u001b[1;32m\"<tokenize>\"\u001b[1;36m, line \u001b[1;32m4\u001b[0m\n\u001b[1;33m    def subtract(x, y):\u001b[0m\n\u001b[1;37m    ^\u001b[0m\n\u001b[1;31mIndentationError\u001b[0m\u001b[1;31m:\u001b[0m unindent does not match any outer indentation level\n"
     ]
    }
   ],
   "source": []
  },
  {
   "cell_type": "markdown",
   "id": "6ab59c04",
   "metadata": {},
   "source": [
    "# 함수 내에 함수 정의: 로컬 함수  \n",
    "-각 함수 정의별로 그 안에 지역변수가 만들어지므로 (locals())해당 이름공간도 같이 만들어집니다.  \n",
    "-함수 내부의 로직들을 하나의 블럭인 함수로 지정해서 재사용 용도로 구성할 수 있음."
   ]
  },
  {
   "cell_type": "code",
   "execution_count": null,
   "id": "3ec2071b",
   "metadata": {},
   "outputs": [],
   "source": []
  }
 ],
 "metadata": {
  "kernelspec": {
   "display_name": "Python 3",
   "language": "python",
   "name": "python3"
  },
  "language_info": {
   "codemirror_mode": {
    "name": "ipython",
    "version": 3
   },
   "file_extension": ".py",
   "mimetype": "text/x-python",
   "name": "python",
   "nbconvert_exporter": "python",
   "pygments_lexer": "ipython3",
   "version": "3.8.8"
  }
 },
 "nbformat": 4,
 "nbformat_minor": 5
}
