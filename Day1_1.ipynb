{
 "cells": [
  {
   "cell_type": "code",
   "execution_count": null,
   "id": "ab3e461d",
   "metadata": {},
   "outputs": [],
   "source": [
    "!python --version"
   ]
  },
  {
   "cell_type": "code",
   "execution_count": null,
   "id": "bcf02b27",
   "metadata": {},
   "outputs": [],
   "source": [
    "import sys"
   ]
  },
  {
   "cell_type": "code",
   "execution_count": null,
   "id": "5908b20b",
   "metadata": {},
   "outputs": [],
   "source": [
    "print(sys.version)"
   ]
  },
  {
   "cell_type": "markdown",
   "id": "7f6e7f42",
   "metadata": {},
   "source": [
    "# Day1\n",
    "## 대구\n",
    "### it교육원\n",
    "#### 강사 문성혁"
   ]
  },
  {
   "cell_type": "code",
   "execution_count": null,
   "id": "d8cfb437",
   "metadata": {},
   "outputs": [],
   "source": [
    "!pip install requests"
   ]
  },
  {
   "cell_type": "code",
   "execution_count": null,
   "id": "293482e7",
   "metadata": {},
   "outputs": [],
   "source": [
    "!pip install bs4"
   ]
  },
  {
   "cell_type": "code",
   "execution_count": null,
   "id": "c934ea18",
   "metadata": {},
   "outputs": [],
   "source": [
    "%%writefile helloworld.py\n",
    "print(\"Hello World\")"
   ]
  },
  {
   "cell_type": "code",
   "execution_count": null,
   "id": "dc5866c4",
   "metadata": {},
   "outputs": [],
   "source": [
    "import helloworld"
   ]
  },
  {
   "cell_type": "code",
   "execution_count": null,
   "id": "89d7c38f",
   "metadata": {},
   "outputs": [],
   "source": [
    "%ls"
   ]
  },
  {
   "cell_type": "code",
   "execution_count": null,
   "id": "d12f70a1",
   "metadata": {},
   "outputs": [],
   "source": [
    "!python helloworld.py"
   ]
  },
  {
   "cell_type": "code",
   "execution_count": null,
   "id": "4baf4d3a",
   "metadata": {},
   "outputs": [],
   "source": [
    "%run helloworld.py"
   ]
  },
  {
   "cell_type": "code",
   "execution_count": null,
   "id": "b21c6e7c",
   "metadata": {},
   "outputs": [],
   "source": [
    "import keyword"
   ]
  },
  {
   "cell_type": "code",
   "execution_count": null,
   "id": "751f63c2",
   "metadata": {},
   "outputs": [],
   "source": [
    "dir(keyword)"
   ]
  },
  {
   "cell_type": "code",
   "execution_count": null,
   "id": "1c8f1cd9",
   "metadata": {},
   "outputs": [],
   "source": [
    "print(keyword.kwlist)"
   ]
  },
  {
   "cell_type": "code",
   "execution_count": null,
   "id": "f9121ac3",
   "metadata": {},
   "outputs": [],
   "source": [
    "len(keyword.kwlist)"
   ]
  },
  {
   "cell_type": "code",
   "execution_count": null,
   "id": "3ab171a1",
   "metadata": {
    "scrolled": true
   },
   "outputs": [],
   "source": [
    "if = 100 "
   ]
  },
  {
   "cell_type": "code",
   "execution_count": null,
   "id": "0d586c50",
   "metadata": {},
   "outputs": [],
   "source": [
    "if_"
   ]
  },
  {
   "cell_type": "code",
   "execution_count": null,
   "id": "bd05594c",
   "metadata": {},
   "outputs": [],
   "source": [
    "type(int)"
   ]
  },
  {
   "cell_type": "code",
   "execution_count": null,
   "id": "8c5e94dc",
   "metadata": {},
   "outputs": [],
   "source": [
    "type = 100"
   ]
  },
  {
   "cell_type": "code",
   "execution_count": null,
   "id": "110f6b4b",
   "metadata": {},
   "outputs": [],
   "source": [
    "type"
   ]
  },
  {
   "cell_type": "code",
   "execution_count": null,
   "id": "0f3bae6c",
   "metadata": {},
   "outputs": [],
   "source": []
  },
  {
   "cell_type": "markdown",
   "id": "3251578d",
   "metadata": {},
   "source": [
    "1첫 번째문장입니다  \n",
    "2두 번째문장입니다"
   ]
  },
  {
   "cell_type": "markdown",
   "id": "297ca123",
   "metadata": {},
   "source": [
    "\n"
   ]
  },
  {
   "cell_type": "markdown",
   "id": "7480b0da",
   "metadata": {},
   "source": [
    "테스트  \n",
    "-모듈이 뭔지\n",
    "+ 454\n",
    "    + 123\n",
    "\n",
    "        첫 번째 문장  \n",
    "        두 번째 문장\n",
    "        "
   ]
  },
  {
   "cell_type": "code",
   "execution_count": null,
   "id": "0cf15558",
   "metadata": {},
   "outputs": [],
   "source": [
    "100"
   ]
  },
  {
   "cell_type": "code",
   "execution_count": null,
   "id": "eb4e1e16",
   "metadata": {
    "scrolled": true
   },
   "outputs": [],
   "source": [
    "type(100)"
   ]
  },
  {
   "cell_type": "code",
   "execution_count": null,
   "id": "cb69bbec",
   "metadata": {
    "scrolled": true
   },
   "outputs": [],
   "source": [
    "\n",
    "type(100)\n"
   ]
  },
  {
   "cell_type": "code",
   "execution_count": null,
   "id": "cd04fbf8",
   "metadata": {},
   "outputs": [],
   "source": [
    "isinstance(100,int)"
   ]
  },
  {
   "cell_type": "code",
   "execution_count": null,
   "id": "84537d2e",
   "metadata": {},
   "outputs": [],
   "source": [
    "a = '100'"
   ]
  },
  {
   "cell_type": "code",
   "execution_count": null,
   "id": "634347d4",
   "metadata": {},
   "outputs": [],
   "source": [
    "a"
   ]
  },
  {
   "cell_type": "code",
   "execution_count": null,
   "id": "be868d85",
   "metadata": {
    "scrolled": true
   },
   "outputs": [],
   "source": [
    "type (a)"
   ]
  },
  {
   "cell_type": "code",
   "execution_count": null,
   "id": "fbad3e66",
   "metadata": {},
   "outputs": [],
   "source": [
    "a: int = 100"
   ]
  },
  {
   "cell_type": "code",
   "execution_count": null,
   "id": "ad41d66e",
   "metadata": {},
   "outputs": [],
   "source": [
    "a"
   ]
  },
  {
   "cell_type": "code",
   "execution_count": null,
   "id": "acbdffd8",
   "metadata": {},
   "outputs": [],
   "source": [
    "a = 100; b = 200; c = a+b"
   ]
  },
  {
   "cell_type": "code",
   "execution_count": null,
   "id": "fa236f23",
   "metadata": {},
   "outputs": [],
   "source": [
    "a,b,c"
   ]
  },
  {
   "cell_type": "code",
   "execution_count": null,
   "id": "544c9a2a",
   "metadata": {},
   "outputs": [],
   "source": [
    "class Person:\n",
    "    def __init__(self,height,weight,age,name):\n",
    "        self.height = height\n",
    "        self.weight = weight\n",
    "        self.age = age\n",
    "        self.name = name\n",
    "    def say_korean(self):\n",
    "        print(\"한국어할수있습니다.\")"
   ]
  },
  {
   "cell_type": "code",
   "execution_count": null,
   "id": "5ddc3438",
   "metadata": {},
   "outputs": [],
   "source": [
    "cho = Person('180', 70, 27, '김아무개')"
   ]
  },
  {
   "cell_type": "code",
   "execution_count": null,
   "id": "31d5e3c0",
   "metadata": {},
   "outputs": [],
   "source": [
    "cho"
   ]
  },
  {
   "cell_type": "code",
   "execution_count": null,
   "id": "1e03d97d",
   "metadata": {
    "scrolled": true
   },
   "outputs": [],
   "source": [
    "cho.name"
   ]
  },
  {
   "cell_type": "markdown",
   "id": "b4a9e0ad",
   "metadata": {},
   "source": [
    "# 내장자료형  \n",
    "### builtin data type\n",
    "\n",
    "- 파이썬 내부적으로 가지는 자료형은 숫자, 문자열, 리스트, 튜플, 딕셔너리,집합 등"
   ]
  },
  {
   "cell_type": "code",
   "execution_count": null,
   "id": "b642a512",
   "metadata": {},
   "outputs": [],
   "source": [
    "a =[]"
   ]
  },
  {
   "cell_type": "code",
   "execution_count": null,
   "id": "79a02ee7",
   "metadata": {},
   "outputs": [],
   "source": [
    "print(a)"
   ]
  },
  {
   "cell_type": "code",
   "execution_count": null,
   "id": "f6461712",
   "metadata": {},
   "outputs": [],
   "source": [
    "print(dir(a))"
   ]
  },
  {
   "cell_type": "code",
   "execution_count": null,
   "id": "28c002ea",
   "metadata": {},
   "outputs": [],
   "source": [
    "__builtins__"
   ]
  },
  {
   "cell_type": "code",
   "execution_count": null,
   "id": "5ebb7b2c",
   "metadata": {},
   "outputs": [],
   "source": [
    "__builtins__.__dict__['float']"
   ]
  },
  {
   "cell_type": "code",
   "execution_count": null,
   "id": "084f2ce7",
   "metadata": {},
   "outputs": [],
   "source": [
    "__builtins__.__dict__['tuple']"
   ]
  },
  {
   "cell_type": "code",
   "execution_count": null,
   "id": "756243ad",
   "metadata": {},
   "outputs": [],
   "source": [
    "range(0,10)"
   ]
  },
  {
   "cell_type": "code",
   "execution_count": null,
   "id": "3de861aa",
   "metadata": {},
   "outputs": [],
   "source": [
    "for data in range(0,10):\n",
    "    print(data)"
   ]
  },
  {
   "cell_type": "markdown",
   "id": "34a46885",
   "metadata": {},
   "source": [
    "### range\n",
    "- 범위 : 첫 인덱스 ~ 마지막 인덱스 -1\n"
   ]
  },
  {
   "cell_type": "code",
   "execution_count": null,
   "id": "d4239da7",
   "metadata": {},
   "outputs": [],
   "source": [
    "a = range(10)"
   ]
  },
  {
   "cell_type": "code",
   "execution_count": null,
   "id": "57d87e90",
   "metadata": {},
   "outputs": [],
   "source": [
    "type(a)"
   ]
  },
  {
   "cell_type": "code",
   "execution_count": null,
   "id": "813509df",
   "metadata": {},
   "outputs": [],
   "source": [
    "a.__class__"
   ]
  },
  {
   "cell_type": "code",
   "execution_count": null,
   "id": "6dceb456",
   "metadata": {},
   "outputs": [],
   "source": [
    "for data in [1,2,3,4,]:\n",
    "    print(data)"
   ]
  },
  {
   "cell_type": "code",
   "execution_count": null,
   "id": "03091c23",
   "metadata": {},
   "outputs": [],
   "source": [
    "for data in \"abc\":\n",
    "    print(data)"
   ]
  },
  {
   "cell_type": "code",
   "execution_count": null,
   "id": "4c7dc248",
   "metadata": {},
   "outputs": [],
   "source": [
    "dict_data ={'a':1,'b':2}\n",
    "for data in dict_data:\n",
    "    print(data)\n",
    "    print(dict_data[data])"
   ]
  },
  {
   "cell_type": "code",
   "execution_count": null,
   "id": "997af293",
   "metadata": {},
   "outputs": [],
   "source": [
    "\n",
    "for data in dict_data.keys()\n",
    "\n"
   ]
  },
  {
   "cell_type": "code",
   "execution_count": null,
   "id": "9ac815c2",
   "metadata": {},
   "outputs": [],
   "source": [
    "for data in dict_data.values():\n",
    "    print(data\n",
    "         )"
   ]
  },
  {
   "cell_type": "code",
   "execution_count": null,
   "id": "cd2a29fe",
   "metadata": {},
   "outputs": [],
   "source": [
    "for (k,v)in dict_data.items():\n",
    "    print(k,v)"
   ]
  },
  {
   "cell_type": "code",
   "execution_count": 1,
   "id": "66dfddc5",
   "metadata": {},
   "outputs": [
    {
     "name": "stdout",
     "output_type": "stream",
     "text": [
      "HEIGHT : 165\n"
     ]
    }
   ],
   "source": [
    "print(\"HEIGHT : \" + str(165) )"
   ]
  },
  {
   "cell_type": "code",
   "execution_count": 2,
   "id": "87e32547",
   "metadata": {},
   "outputs": [
    {
     "data": {
      "text/plain": [
       "'HEIGHT : 165'"
      ]
     },
     "execution_count": 2,
     "metadata": {},
     "output_type": "execute_result"
    }
   ],
   "source": [
    "f'HEIGHT : { 165 }'"
   ]
  },
  {
   "cell_type": "markdown",
   "id": "2cddd744",
   "metadata": {},
   "source": [
    "break"
   ]
  },
  {
   "cell_type": "code",
   "execution_count": 3,
   "id": "f48fca89",
   "metadata": {},
   "outputs": [
    {
     "name": "stdout",
     "output_type": "stream",
     "text": [
      "loop\n",
      "loop\n",
      "loop\n",
      "loop\n",
      "loop\n"
     ]
    }
   ],
   "source": [
    "for data in range(5):\n",
    "    print(\"loop\")"
   ]
  },
  {
   "cell_type": "code",
   "execution_count": 4,
   "id": "c79fdeda",
   "metadata": {},
   "outputs": [
    {
     "name": "stdout",
     "output_type": "stream",
     "text": [
      "loop\n"
     ]
    }
   ],
   "source": [
    "for data in range(5):\n",
    "    print(\"loop\")\n",
    "    break\n",
    "    "
   ]
  },
  {
   "cell_type": "code",
   "execution_count": 9,
   "id": "0327b930",
   "metadata": {},
   "outputs": [
    {
     "ename": "IndentationError",
     "evalue": "expected an indented block (<ipython-input-9-caaf796dee84>, line 3)",
     "output_type": "error",
     "traceback": [
      "\u001b[1;36m  File \u001b[1;32m\"<ipython-input-9-caaf796dee84>\"\u001b[1;36m, line \u001b[1;32m3\u001b[0m\n\u001b[1;33m    continue\u001b[0m\n\u001b[1;37m    ^\u001b[0m\n\u001b[1;31mIndentationError\u001b[0m\u001b[1;31m:\u001b[0m expected an indented block\n"
     ]
    }
   ],
   "source": [
    "for data in range(10):\n",
    "    if data % 2 == 0:\n",
    "    continue\n",
    "    print(f'{ data }:loop')"
   ]
  },
  {
   "cell_type": "code",
   "execution_count": 20,
   "id": "6f44c8d9",
   "metadata": {},
   "outputs": [
    {
     "name": "stdout",
     "output_type": "stream",
     "text": [
      "for loop end\n",
      "for loop end\n",
      "for loop end\n"
     ]
    }
   ],
   "source": [
    "for data in range(5):\n",
    "    if data == 3:\n",
    "        break\n",
    "        print(data)\n",
    "    else:\n",
    "            print(\"for loop end\")"
   ]
  },
  {
   "cell_type": "code",
   "execution_count": 23,
   "id": "65bd145a",
   "metadata": {},
   "outputs": [
    {
     "name": "stdout",
     "output_type": "stream",
     "text": [
      "2단\n",
      "2 * 1 : 2\n",
      "2 * 2 : 4\n",
      "2 * 3 : 6\n",
      "2 * 4 : 8\n",
      "2 * 5 : 10\n",
      "2 * 6 : 12\n",
      "2 * 7 : 14\n",
      "2 * 8 : 16\n",
      "2 * 9 : 18\n",
      "\n",
      "3단\n",
      "3 * 1 : 3\n",
      "3 * 2 : 6\n",
      "3 * 3 : 9\n",
      "3 * 4 : 12\n",
      "3 * 5 : 15\n",
      "3 * 6 : 18\n",
      "3 * 7 : 21\n",
      "3 * 8 : 24\n",
      "3 * 9 : 27\n",
      "\n",
      "4단\n",
      "4 * 1 : 4\n",
      "4 * 2 : 8\n",
      "4 * 3 : 12\n",
      "4 * 4 : 16\n",
      "4 * 5 : 20\n",
      "4 * 6 : 24\n",
      "4 * 7 : 28\n",
      "4 * 8 : 32\n",
      "4 * 9 : 36\n",
      "\n",
      "5단\n",
      "5 * 1 : 5\n",
      "5 * 2 : 10\n",
      "5 * 3 : 15\n",
      "5 * 4 : 20\n",
      "5 * 5 : 25\n",
      "5 * 6 : 30\n",
      "5 * 7 : 35\n",
      "5 * 8 : 40\n",
      "5 * 9 : 45\n",
      "\n",
      "6단\n",
      "6 * 1 : 6\n",
      "6 * 2 : 12\n",
      "6 * 3 : 18\n",
      "6 * 4 : 24\n",
      "6 * 5 : 30\n",
      "6 * 6 : 36\n",
      "6 * 7 : 42\n",
      "6 * 8 : 48\n",
      "6 * 9 : 54\n",
      "\n",
      "7단\n",
      "7 * 1 : 7\n",
      "7 * 2 : 14\n",
      "7 * 3 : 21\n",
      "7 * 4 : 28\n",
      "7 * 5 : 35\n",
      "7 * 6 : 42\n",
      "7 * 7 : 49\n",
      "7 * 8 : 56\n",
      "7 * 9 : 63\n",
      "\n",
      "8단\n",
      "8 * 1 : 8\n",
      "8 * 2 : 16\n",
      "8 * 3 : 24\n",
      "8 * 4 : 32\n",
      "8 * 5 : 40\n",
      "8 * 6 : 48\n",
      "8 * 7 : 56\n",
      "8 * 8 : 64\n",
      "8 * 9 : 72\n",
      "\n",
      "9단\n",
      "9 * 1 : 9\n",
      "9 * 2 : 18\n",
      "9 * 3 : 27\n",
      "9 * 4 : 36\n",
      "9 * 5 : 45\n",
      "9 * 6 : 54\n",
      "9 * 7 : 63\n",
      "9 * 8 : 72\n",
      "9 * 9 : 81\n",
      "\n"
     ]
    }
   ],
   "source": [
    "for i in range(2, 10):\n",
    "    print(f\"{i}단\")\n",
    "    for j in range(1, 10):\n",
    "        print(f\"{i} * {j} : {i*j}\")\n",
    "        \n",
    "    print()"
   ]
  },
  {
   "cell_type": "code",
   "execution_count": 27,
   "id": "74cb6c4a",
   "metadata": {},
   "outputs": [
    {
     "name": "stdout",
     "output_type": "stream",
     "text": [
      "2단\n",
      "2 x 1 = 2\n",
      "2 x 2 = 4\n",
      "2 x 3 = 6\n",
      "2 x 4 = 8\n",
      "2 x 5 = 10\n",
      "2 x 6 = 12\n",
      "2 x 7 = 14\n",
      "2 x 8 = 16\n",
      "2 x 9 = 18\n",
      "3단\n",
      "3 x 1 = 3\n",
      "3 x 2 = 6\n",
      "3 x 3 = 9\n",
      "3 x 4 = 12\n",
      "3 x 5 = 15\n",
      "3 x 6 = 18\n",
      "3 x 7 = 21\n",
      "3 x 8 = 24\n",
      "3 x 9 = 27\n",
      "4단\n",
      "4 x 1 = 4\n",
      "4 x 2 = 8\n",
      "4 x 3 = 12\n",
      "4 x 4 = 16\n",
      "4 x 5 = 20\n",
      "4 x 6 = 24\n",
      "4 x 7 = 28\n",
      "4 x 8 = 32\n",
      "4 x 9 = 36\n",
      "5단\n",
      "5 x 1 = 5\n",
      "5 x 2 = 10\n",
      "5 x 3 = 15\n",
      "5 x 4 = 20\n",
      "5 x 5 = 25\n",
      "5 x 6 = 30\n",
      "5 x 7 = 35\n",
      "5 x 8 = 40\n",
      "5 x 9 = 45\n",
      "6단\n",
      "6 x 1 = 6\n",
      "6 x 2 = 12\n",
      "6 x 3 = 18\n",
      "6 x 4 = 24\n",
      "6 x 5 = 30\n",
      "6 x 6 = 36\n",
      "6 x 7 = 42\n",
      "6 x 8 = 48\n",
      "6 x 9 = 54\n",
      "7단\n",
      "7 x 1 = 7\n",
      "7 x 2 = 14\n",
      "7 x 3 = 21\n",
      "7 x 4 = 28\n",
      "7 x 5 = 35\n",
      "7 x 6 = 42\n",
      "7 x 7 = 49\n",
      "7 x 8 = 56\n",
      "7 x 9 = 63\n",
      "8단\n",
      "8 x 1 = 8\n",
      "8 x 2 = 16\n",
      "8 x 3 = 24\n",
      "8 x 4 = 32\n",
      "8 x 5 = 40\n",
      "8 x 6 = 48\n",
      "8 x 7 = 56\n",
      "8 x 8 = 64\n",
      "8 x 9 = 72\n",
      "9단\n",
      "9 x 1 = 9\n",
      "9 x 2 = 18\n",
      "9 x 3 = 27\n",
      "9 x 4 = 36\n",
      "9 x 5 = 45\n",
      "9 x 6 = 54\n",
      "9 x 7 = 63\n",
      "9 x 8 = 72\n",
      "9 x 9 = 81\n"
     ]
    }
   ],
   "source": [
    "for first in range(2,10):\n",
    "    print(f'{first}단')\n",
    "    for second in range(1,10):\n",
    "        print(f'{first} x {second} = {first * second}')"
   ]
  },
  {
   "cell_type": "code",
   "execution_count": 31,
   "id": "8e909a21",
   "metadata": {},
   "outputs": [
    {
     "ename": "SyntaxError",
     "evalue": "invalid syntax (<ipython-input-31-97949e3785ab>, line 10)",
     "output_type": "error",
     "traceback": [
      "\u001b[1;36m  File \u001b[1;32m\"<ipython-input-31-97949e3785ab>\"\u001b[1;36m, line \u001b[1;32m10\u001b[0m\n\u001b[1;33m    else:\u001b[0m\n\u001b[1;37m    ^\u001b[0m\n\u001b[1;31mSyntaxError\u001b[0m\u001b[1;31m:\u001b[0m invalid syntax\n"
     ]
    }
   ],
   "source": [
    "index = 0\n",
    "\n",
    "is_while + True\n",
    "\n",
    "while is_while:\n",
    "    if index >= 5:\n",
    "        is_while = False\n",
    "        print(\"loop\")\n",
    "        index += 1\n",
    "        else:\n",
    "            print(\"while else end\")"
   ]
  },
  {
   "cell_type": "markdown",
   "id": "2dfddd75",
   "metadata": {},
   "source": [
    "# 2.제어문\n",
    "\n",
    "#### keyword : if(elif) else\n",
    "특정 조건을 판단해서 특정 기능을 처리"
   ]
  },
  {
   "cell_type": "markdown",
   "id": "528e1fd4",
   "metadata": {},
   "source": [
    "### 비교 연산자\n",
    "\n",
    "== ( equal), <, >, >= <="
   ]
  },
  {
   "cell_type": "code",
   "execution_count": 32,
   "id": "bf2589c6",
   "metadata": {},
   "outputs": [
    {
     "data": {
      "text/plain": [
       "True"
      ]
     },
     "execution_count": 32,
     "metadata": {},
     "output_type": "execute_result"
    }
   ],
   "source": [
    "100==100"
   ]
  },
  {
   "cell_type": "code",
   "execution_count": 33,
   "id": "68ad9934",
   "metadata": {},
   "outputs": [
    {
     "data": {
      "text/plain": [
       "False"
      ]
     },
     "execution_count": 33,
     "metadata": {},
     "output_type": "execute_result"
    }
   ],
   "source": [
    "100<99"
   ]
  },
  {
   "cell_type": "markdown",
   "id": "fbf35007",
   "metadata": {},
   "source": [
    "### 논리 연산자 \n",
    "and , or  and는 둘다 맞아야지 true or은 둘중 하나만 맞아도 true"
   ]
  },
  {
   "cell_type": "code",
   "execution_count": 34,
   "id": "2823f3a3",
   "metadata": {},
   "outputs": [
    {
     "data": {
      "text/plain": [
       "True"
      ]
     },
     "execution_count": 34,
     "metadata": {},
     "output_type": "execute_result"
    }
   ],
   "source": [
    "(100== 100) and (100>99)"
   ]
  },
  {
   "cell_type": "markdown",
   "id": "c95e031d",
   "metadata": {},
   "source": [
    "## 단순 조건문 if"
   ]
  },
  {
   "cell_type": "code",
   "execution_count": 35,
   "id": "eccb03b5",
   "metadata": {},
   "outputs": [],
   "source": [
    "import random"
   ]
  },
  {
   "cell_type": "code",
   "execution_count": 52,
   "id": "e655c656",
   "metadata": {},
   "outputs": [
    {
     "name": "stdout",
     "output_type": "stream",
     "text": [
      "False\n",
      "7\n"
     ]
    }
   ],
   "source": [
    "random_value = random.randint(0,10)\n",
    "\n",
    "if random_value < 5:\n",
    "    \n",
    "    print(\"True\")\n",
    "else:\n",
    "    print(\"False\")\n",
    "    print(random_value)"
   ]
  },
  {
   "cell_type": "markdown",
   "id": "670511f4",
   "metadata": {},
   "source": [
    "### 삼항연산자"
   ]
  },
  {
   "cell_type": "code",
   "execution_count": 45,
   "id": "829cd5ae",
   "metadata": {},
   "outputs": [
    {
     "name": "stdout",
     "output_type": "stream",
     "text": [
      "5 under\n",
      "2\n"
     ]
    }
   ],
   "source": [
    "random_value = random.randint(0,10)\n",
    "\n",
    "print(\"5 over\") if random_value > 5 else print(\"5 under\")\n",
    "print(random_value)"
   ]
  },
  {
   "cell_type": "code",
   "execution_count": 54,
   "id": "f5395834",
   "metadata": {},
   "outputs": [
    {
     "name": "stdout",
     "output_type": "stream",
     "text": [
      "값을 입력하세요,50\n"
     ]
    },
    {
     "data": {
      "text/plain": [
       "'50'"
      ]
     },
     "execution_count": 54,
     "metadata": {},
     "output_type": "execute_result"
    }
   ],
   "source": [
    "input(\"값을 입력하세요,\")"
   ]
  },
  {
   "cell_type": "code",
   "execution_count": 55,
   "id": "b966e541",
   "metadata": {},
   "outputs": [
    {
     "name": "stdout",
     "output_type": "stream",
     "text": [
      "1부터 20까지의 숫자가 있습니다.\n",
      "예상하는 숫자를 입력하세요.\n",
      "20\n",
      "예상한 숫자가 너무 큽니다.\n",
      "예상하는 숫자를 입력하세요.\n",
      "40\n",
      "예상한 숫자가 너무 큽니다.\n",
      "예상하는 숫자를 입력하세요.\n",
      "10\n",
      "예상한 숫자가 너무 작습니다.\n",
      "예상하는 숫자를 입력하세요.\n",
      "15\n",
      "예상한 숫자가 너무 큽니다.\n",
      "예상하는 숫자를 입력하세요.\n",
      "14\n",
      "예상한 숫자가 너무 큽니다.\n",
      "예상하는 숫자를 입력하세요.\n",
      "13\n",
      "예상한 숫자 13는 정답입니다.\n"
     ]
    }
   ],
   "source": [
    "#숫자 게임을 추측하는 프로그램\n",
    "import random\n",
    "secretNumber = random.randint(1, 20)\n",
    "print('1부터 20까지의 숫자가 있습니다.')\n",
    "\n",
    "# 플레이어에게 6번의 추측을 요청한다.\n",
    "for guessTaken in range(1, 7):\n",
    "    print('예상하는 숫자를 입력하세요.')\n",
    "    guess = int(input())\n",
    "\n",
    "    if guess < secretNumber:\n",
    "        print('예상한 숫자가 너무 작습니다.')\n",
    "    elif guess > secretNumber:\n",
    "        print('예상한 숫자가 너무 큽니다.')\n",
    "    else:\n",
    "        break\n",
    "if guess == secretNumber:\n",
    "    print('예상한 숫자 ' + str(guess) + '는 정답입니다.')\n",
    "else:\n",
    "    print('아니오. 내가 생각하고 있던 번호는 ' + str(secretNumber) + '입니다.')"
   ]
  },
  {
   "cell_type": "code",
   "execution_count": 56,
   "id": "aa618013",
   "metadata": {},
   "outputs": [],
   "source": [
    "import random"
   ]
  },
  {
   "cell_type": "code",
   "execution_count": 58,
   "id": "7899e283",
   "metadata": {},
   "outputs": [],
   "source": [
    "random_value = random.randint(0,50)"
   ]
  },
  {
   "cell_type": "code",
   "execution_count": 62,
   "id": "29bd881e",
   "metadata": {
    "scrolled": true
   },
   "outputs": [
    {
     "ename": "SyntaxError",
     "evalue": "invalid syntax (<ipython-input-62-60380077c36b>, line 11)",
     "output_type": "error",
     "traceback": [
      "\u001b[1;36m  File \u001b[1;32m\"<ipython-input-62-60380077c36b>\"\u001b[1;36m, line \u001b[1;32m11\u001b[0m\n\u001b[1;33m    else\u001b[0m\n\u001b[1;37m    ^\u001b[0m\n\u001b[1;31mSyntaxError\u001b[0m\u001b[1;31m:\u001b[0m invalid syntax\n"
     ]
    }
   ],
   "source": [
    "for index in range(20):\n",
    "    input_value = int(input('정답을 입력해주세요.'))\n",
    "    \n",
    "    if input_value == random_value:\n",
    "        print(\"정답입니다!\")\n",
    "        break\n",
    "    elif input_value < random_value:\n",
    "        print(\"작습니다.\")\n",
    "    else:\n",
    "        print(\"큽니다\")\n",
    "    else:\n",
    "        print(\"스무고개 게임이 종료됐습니다.\")"
   ]
  },
  {
   "cell_type": "code",
   "execution_count": null,
   "id": "776deee7",
   "metadata": {},
   "outputs": [],
   "source": []
  }
 ],
 "metadata": {
  "kernelspec": {
   "display_name": "Python 3",
   "language": "python",
   "name": "python3"
  },
  "language_info": {
   "codemirror_mode": {
    "name": "ipython",
    "version": 3
   },
   "file_extension": ".py",
   "mimetype": "text/x-python",
   "name": "python",
   "nbconvert_exporter": "python",
   "pygments_lexer": "ipython3",
   "version": "3.8.8"
  }
 },
 "nbformat": 4,
 "nbformat_minor": 5
}
